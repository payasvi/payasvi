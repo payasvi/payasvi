{
  "nbformat": 4,
  "nbformat_minor": 0,
  "metadata": {
    "colab": {
      "name": "prime.ipynb",
      "provenance": [],
      "include_colab_link": true
    },
    "kernelspec": {
      "name": "python3",
      "display_name": "Python 3"
    }
  },
  "cells": [
    {
      "cell_type": "markdown",
      "metadata": {
        "id": "view-in-github",
        "colab_type": "text"
      },
      "source": [
        "<a href=\"https://colab.research.google.com/github/payasvi/payasvi/blob/master/prime.ipynb\" target=\"_parent\"><img src=\"https://colab.research.google.com/assets/colab-badge.svg\" alt=\"Open In Colab\"/></a>"
      ]
    },
    {
      "cell_type": "code",
      "metadata": {
        "id": "qjHj67sqAIAl",
        "colab_type": "code",
        "colab": {
          "base_uri": "https://localhost:8080/",
          "height": 50
        },
        "outputId": "d3a53e7a-5c0a-42cf-acea-dd72038defaa"
      },
      "source": [
        "# Find nth Prime No\n",
        "n=int(input(\"Enter the nth prime no u want to print :\"))\n",
        "prime_no=[2,3]\n",
        "i=3\n",
        "if(0<n<3):\n",
        "  print(n,\"th prime no is \",prime_no[n-1])\n",
        "elif(n>2):\n",
        "  while(True):\n",
        "    i+=1\n",
        "    prime=True\n",
        "    for s in range( 2,int(i/2)+1):\n",
        "      if (i%s==0):\n",
        "        prime=False\n",
        "        break\n",
        "    if(prime==True):\n",
        "          prime_no.append(i)\n",
        "    if(len(prime_no)==n):\n",
        "        break\n",
        "  print(n,'th prime no is :', prime_no[n-1])\n",
        "else:\n",
        "  print('Please Enter A Valid Number')\n",
        "        "
      ],
      "execution_count": 1,
      "outputs": [
        {
          "output_type": "stream",
          "text": [
            "Enter the nth prime no u want to print :4\n",
            "4 th prime no is : 7\n"
          ],
          "name": "stdout"
        }
      ]
    }
  ]
}