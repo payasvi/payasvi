{
  "nbformat": 4,
  "nbformat_minor": 0,
  "metadata": {
    "colab": {
      "name": "vowel_word_count.ipynb",
      "provenance": [],
      "include_colab_link": true
    },
    "kernelspec": {
      "name": "python3",
      "display_name": "Python 3"
    }
  },
  "cells": [
    {
      "cell_type": "markdown",
      "metadata": {
        "id": "view-in-github",
        "colab_type": "text"
      },
      "source": [
        "<a href=\"https://colab.research.google.com/github/payasvi/payasvi/blob/master/vowel_word_count.ipynb\" target=\"_parent\"><img src=\"https://colab.research.google.com/assets/colab-badge.svg\" alt=\"Open In Colab\"/></a>"
      ]
    },
    {
      "cell_type": "code",
      "metadata": {
        "id": "41GZrjcQ_yEe",
        "colab_type": "code",
        "colab": {}
      },
      "source": [
        "# Finding no of vowels \n",
        "import pandas as pd \n",
        "data=pd.read_json(\"http://snap.stanford.edu/data/amazon/productGraph/categoryFiles/reviews_Office_Products_5.json.gz\",lines= True,orient='values')"
      ],
      "execution_count": 0,
      "outputs": []
    },
    {
      "cell_type": "code",
      "metadata": {
        "id": "yL69lGTdACZ4",
        "colab_type": "code",
        "colab": {}
      },
      "source": [
        "vowels = 'aeiou'\n",
        "def word_count(str):\n",
        "    total=0\n",
        "    counts = {}.fromkeys(vowels, 0) \n",
        "    string= str.lower().split()\n",
        "\n",
        "    for word in string:\n",
        "        if word in counts:\n",
        "            counts[word] += 1\n",
        "            total=total+1\n",
        "        else:\n",
        "            counts[word] = 1\n",
        "\n",
        "    #return counts\n",
        "    return total\n",
        "    #print (word_count(words, vowels))"
      ],
      "execution_count": 0,
      "outputs": []
    },
    {
      "cell_type": "code",
      "metadata": {
        "id": "xKmr6iRLAMmn",
        "colab_type": "code",
        "colab": {
          "base_uri": "https://localhost:8080/",
          "height": 218
        },
        "outputId": "70ea8dc2-1180-468d-c76d-6dc2d76a15a8"
      },
      "source": [
        "data.reviewText.apply(word_count,1)"
      ],
      "execution_count": 3,
      "outputs": [
        {
          "output_type": "execute_result",
          "data": {
            "text/plain": [
              "0         69\n",
              "1        499\n",
              "2         33\n",
              "3        279\n",
              "4         36\n",
              "        ... \n",
              "53253     43\n",
              "53254    232\n",
              "53255    129\n",
              "53256     50\n",
              "53257    133\n",
              "Name: reviewText, Length: 53258, dtype: int64"
            ]
          },
          "metadata": {
            "tags": []
          },
          "execution_count": 3
        }
      ]
    },
    {
      "cell_type": "code",
      "metadata": {
        "id": "3lUJewNKAQrd",
        "colab_type": "code",
        "colab": {}
      },
      "source": [
        "#Finding no of consonants\n",
        "vowels = 'aeiou'\n",
        "def count(str):\n",
        "    consonant=0\n",
        "    counts = {}.fromkeys(vowels, 0) \n",
        "    string= str.lower().split()\n",
        "\n",
        "    for word in string:\n",
        "        if  word in counts:\n",
        "            counts[word] += 1\n",
        "  \n",
        "        else:\n",
        "            consonant=consonant+1\n",
        "\n",
        "    #return counts\n",
        "    return consonant\n",
        "    #print (word_count(words, vowels))"
      ],
      "execution_count": 0,
      "outputs": []
    },
    {
      "cell_type": "code",
      "metadata": {
        "id": "28b7SMf1AZna",
        "colab_type": "code",
        "colab": {
          "base_uri": "https://localhost:8080/",
          "height": 218
        },
        "outputId": "74261386-df67-4cee-8425-976ba17e9fa4"
      },
      "source": [
        "data.reviewText.apply(count,1)"
      ],
      "execution_count": 6,
      "outputs": [
        {
          "output_type": "execute_result",
          "data": {
            "text/plain": [
              "0        174\n",
              "1        891\n",
              "2         93\n",
              "3        570\n",
              "4        116\n",
              "        ... \n",
              "53253    143\n",
              "53254    483\n",
              "53255    274\n",
              "53256    135\n",
              "53257    319\n",
              "Name: reviewText, Length: 53258, dtype: int64"
            ]
          },
          "metadata": {
            "tags": []
          },
          "execution_count": 6
        }
      ]
    },
    {
      "cell_type": "code",
      "metadata": {
        "id": "iM08tuJrAVoZ",
        "colab_type": "code",
        "colab": {}
      },
      "source": [
        "stopwords='''!()-[]{};:'\"\\,<>./?@#$%^&*_~'''\n",
        "def word_count(str):\n",
        "    counts = {}\n",
        "    counts[\"total_vowels\"]=0\n",
        "    counts[\"total_consonants\"]=0\n",
        "    str = str.replace(\" \", \"\")\n",
        "    for word in str:\n",
        "        if word in stopwords:\n",
        "          str = str.replace(word, \"\")\n",
        "    for word in str:\n",
        "            if word in ('A','a','E','e','I','i','O','o','U','u'):\n",
        "              counts[\"total_vowels\"]+=1\n",
        "            else:\n",
        "              counts[\"total_consonants\"]+=1\n",
        "\n",
        "    return counts"
      ],
      "execution_count": 0,
      "outputs": []
    },
    {
      "cell_type": "code",
      "metadata": {
        "id": "fNV87CFMAggv",
        "colab_type": "code",
        "colab": {
          "base_uri": "https://localhost:8080/",
          "height": 34
        },
        "outputId": "f211fbb6-7207-4c40-8af4-d2e23297949d"
      },
      "source": [
        "str='Hello World!'\n",
        "word_count(str)"
      ],
      "execution_count": 8,
      "outputs": [
        {
          "output_type": "execute_result",
          "data": {
            "text/plain": [
              "{'total_consonants': 7, 'total_vowels': 3}"
            ]
          },
          "metadata": {
            "tags": []
          },
          "execution_count": 8
        }
      ]
    },
    {
      "cell_type": "code",
      "metadata": {
        "id": "yO9PmlUzAfAP",
        "colab_type": "code",
        "colab": {
          "base_uri": "https://localhost:8080/",
          "height": 218
        },
        "outputId": "172ad5ab-018b-4b0a-d881-80df4976d2c9"
      },
      "source": [
        "data[\"reviewText_count\"] = data.apply(lambda row: word_count(row.reviewText),axis=1)\n",
        "data[\"reviewText_count\"]"
      ],
      "execution_count": 9,
      "outputs": [
        {
          "output_type": "execute_result",
          "data": {
            "text/plain": [
              "0          {'total_vowels': 279, 'total_consonants': 464}\n",
              "1        {'total_vowels': 1504, 'total_consonants': 2813}\n",
              "2          {'total_vowels': 134, 'total_consonants': 246}\n",
              "3        {'total_vowels': 1089, 'total_consonants': 1805}\n",
              "4          {'total_vowels': 208, 'total_consonants': 344}\n",
              "                               ...                       \n",
              "53253      {'total_vowels': 236, 'total_consonants': 362}\n",
              "53254     {'total_vowels': 839, 'total_consonants': 1321}\n",
              "53255      {'total_vowels': 422, 'total_consonants': 726}\n",
              "53256      {'total_vowels': 232, 'total_consonants': 339}\n",
              "53257      {'total_vowels': 582, 'total_consonants': 923}\n",
              "Name: reviewText_count, Length: 53258, dtype: object"
            ]
          },
          "metadata": {
            "tags": []
          },
          "execution_count": 9
        }
      ]
    },
    {
      "cell_type": "code",
      "metadata": {
        "id": "ouzbxtb2ApCV",
        "colab_type": "code",
        "colab": {
          "base_uri": "https://localhost:8080/",
          "height": 706
        },
        "outputId": "8646b2c9-f1c2-4f34-b947-ecaeec52d69a"
      },
      "source": [
        "import re\n",
        "text=data.iloc[1].reviewText\n",
        "text\n",
        "re.findall(r'\\b[bB]\\w+', text)"
      ],
      "execution_count": 10,
      "outputs": [
        {
          "output_type": "execute_result",
          "data": {
            "text/plain": [
              "['BELATED',\n",
              " 'burying',\n",
              " 'brandname',\n",
              " 'best',\n",
              " 'business',\n",
              " 'before',\n",
              " 'business',\n",
              " 'bearer',\n",
              " 'boy',\n",
              " 'business',\n",
              " 'best',\n",
              " 'been',\n",
              " 'by',\n",
              " 'being',\n",
              " 'business',\n",
              " 'by',\n",
              " 'bear',\n",
              " 'by',\n",
              " 'by',\n",
              " 'because',\n",
              " 'by',\n",
              " 'BROKEN',\n",
              " 'be',\n",
              " 'by',\n",
              " 'Based',\n",
              " 'built',\n",
              " 'BETTER',\n",
              " 'BENCHMARKING',\n",
              " 'be',\n",
              " 'business',\n",
              " 'be',\n",
              " 'business',\n",
              " 'brandname',\n",
              " 'be',\n",
              " 'be',\n",
              " 'be',\n",
              " 'business',\n",
              " 'By',\n",
              " 'be',\n",
              " 'be',\n",
              " 'bearer']"
            ]
          },
          "metadata": {
            "tags": []
          },
          "execution_count": 10
        }
      ]
    },
    {
      "cell_type": "code",
      "metadata": {
        "id": "dH1dgLjIAtQX",
        "colab_type": "code",
        "colab": {
          "base_uri": "https://localhost:8080/",
          "height": 470
        },
        "outputId": "6c0772e1-a965-412b-91ce-b89742741606"
      },
      "source": [
        "text2=data.iloc[1].reviewText\n",
        "text2\n",
        "re.findall(r'\\b\\w+[gG]\\b', text2)"
      ],
      "execution_count": 11,
      "outputs": [
        {
          "output_type": "execute_result",
          "data": {
            "text/plain": [
              "['sharing',\n",
              " 'burying',\n",
              " 'praising',\n",
              " 'including',\n",
              " 'continuing',\n",
              " 'surviving',\n",
              " 'selling',\n",
              " 'According',\n",
              " 'selling',\n",
              " 'remaining',\n",
              " 'being',\n",
              " 'using',\n",
              " 'amusing',\n",
              " 'disappointing',\n",
              " 'frustrating',\n",
              " 'remaking',\n",
              " 'differentiating',\n",
              " 'following',\n",
              " 'reasoning',\n",
              " 'MANUFACTURING',\n",
              " 'BENCHMARKING',\n",
              " 'listening',\n",
              " 'puzzling',\n",
              " 'replacing',\n",
              " 'discontinuing',\n",
              " 'missing',\n",
              " 'Looking']"
            ]
          },
          "metadata": {
            "tags": []
          },
          "execution_count": 11
        }
      ]
    },
    {
      "cell_type": "code",
      "metadata": {
        "id": "xtw1J8s-Aw-U",
        "colab_type": "code",
        "colab": {
          "base_uri": "https://localhost:8080/",
          "height": 1000
        },
        "outputId": "6d912a61-03a8-4a47-be83-641191ce93d5"
      },
      "source": [
        "text1=data.iloc[1].reviewText\n",
        "re.findall(r'\\b[bB]\\w+ | \\b\\w+[gG]\\b ', text1)"
      ],
      "execution_count": 12,
      "outputs": [
        {
          "output_type": "execute_result",
          "data": {
            "text/plain": [
              "['BELATED ',\n",
              " ' sharing ',\n",
              " ' burying ',\n",
              " ' praising ',\n",
              " ' including ',\n",
              " 'brandname ',\n",
              " 'best ',\n",
              " 'business ',\n",
              " 'before ',\n",
              " 'business ',\n",
              " 'bearer ',\n",
              " 'business ',\n",
              " ' continuing ',\n",
              " ' surviving ',\n",
              " ' selling ',\n",
              " ' According ',\n",
              " 'best ',\n",
              " ' remaining ',\n",
              " 'been ',\n",
              " 'by ',\n",
              " ' being ',\n",
              " 'business ',\n",
              " 'by ',\n",
              " 'bear ',\n",
              " 'by ',\n",
              " ' using ',\n",
              " ' amusing ',\n",
              " ' disappointing ',\n",
              " ' frustrating ',\n",
              " ' remaking ',\n",
              " 'by ',\n",
              " ' differentiating ',\n",
              " 'because ',\n",
              " ' following ',\n",
              " 'by ',\n",
              " 'be ',\n",
              " 'by ',\n",
              " 'Based ',\n",
              " 'built ',\n",
              " ' MANUFACTURING ',\n",
              " 'BETTER ',\n",
              " ' BENCHMARKING ',\n",
              " ' listening ',\n",
              " 'be ',\n",
              " 'business ',\n",
              " 'be ',\n",
              " 'business ',\n",
              " 'brandname ',\n",
              " ' puzzling ',\n",
              " ' replacing ',\n",
              " ' discontinuing ',\n",
              " 'be ',\n",
              " ' missing ',\n",
              " 'be ',\n",
              " 'be ',\n",
              " 'business ',\n",
              " 'By ',\n",
              " 'be ',\n",
              " 'be ']"
            ]
          },
          "metadata": {
            "tags": []
          },
          "execution_count": 12
        }
      ]
    },
    {
      "cell_type": "code",
      "metadata": {
        "id": "OXhyRCk_A1GH",
        "colab_type": "code",
        "colab": {
          "base_uri": "https://localhost:8080/",
          "height": 54
        },
        "outputId": "8ef72097-e1af-4eb1-ee47-9600399db3bb"
      },
      "source": [
        "text"
      ],
      "execution_count": 13,
      "outputs": [
        {
          "output_type": "execute_result",
          "data": {
            "text/plain": [
              "'WHY THIS BELATED REVIEW? I feel very obliged to share my views about this old workhorse, the HP12C GOLD at its 25th anniversary and my 1Oth year as a satisfied ower user and fan. Especially after sharing my frank views on Amazon about two of its three successors on Amazon.com, burying the HP12c Platinum (2004 1st release, HP12cP) and praising the HP12c Platiunum Anniversary Edition (2006 3rd release, HP12cPAE or HP12cPA).To the majority of HP 12c calculator owners and fans, including the non-techkie nerd like myself, the name Hewlett-Packard To the majority of HP 12c calculator owners and fans. The brandname of Hewlett-Packard is synonymous with the highest quality and best range offered in handheld electronic business financial calculators before the first generation of personal computers hits the desktops of business users.To date (December 2007), the bearer of this \"gold\" standard is none other than the HP12C HP\\'s \"golden boy\" in its calculator business segment.The HP12C now a matured product, is the only continuing HP handheld surviving calculator product since \\'81 and probably the longest selling electronic calculator ever. According to HP almost 15 million HP 12Cs, cPs was sold since ,it is probably the best selling HP (and RPN) calculator ever.As a proven product, the HP12C \"gold\" works from day 1, with its form factor and sofware remaining unchanged and has not been dethroned by rivals and even its HP successors which had come and go.Even with PC software versions being sold, the 12C remains the truly indispensable \"portable\" finance-business heldheld computer for its owners, professionals and students alike. This handy companion powers up immediately and is faster than any portable personal computers to jump right into the action.The HP12C is a serious product and the ultimate time tested solution, field tested proven by its users and survived all its rival products, the workhorse moves on.Anyone in charge of this HP line should always bear in mind that the continued production run of the HP 12c is a testimony of HP\\'s quality and standard expected by its customers.Don\\'t just listen to a HP12C fan here, I own and am using three out of 4 models of the HP 12C series, and it is amusing and somewhat disappointing to observe that it had taken HP at least four years and two major upgrades of the HP 12c Platinium, in its futile attempt to \"fix & retire\" the HP12C with three successors in the form of HP12cPlatinum since 2004.It would seems especially frustrating on the part of HP, to realize after all the effort spent on remaking the HP12cPlatinum models that it would not outdone its siblings the HP10bII and HP17bII+ series to seriously challenge the HP12C Gold.  However, by their own rights the HP10Bs and HP17Bs, and the HP12cPlatinum may find their rightful place in the HP financial calculator line, differentiating the HP12C GOLD in terms of price and functions.IMHO, this had happened because the following golden rules were infringed by HP...GOLDEN RULE I - A PRODUCT WHICH STILL SELLS ITSELF IS NEVER OBSOLETE.GOLDEN RULE II - IF IT AREN\\'T BROKEN, DON\\'t FIX IT ! \"The gold rule of thumb should always be guarded as gospel by the HP heldheld calculator product team. Based on the same reasoning, the HP12C\\'s built quality and product standard is paramount to its users.GOLDEN RULE III - ALWAYS LISTEN TO YOUR CUSTOMERS! If in doubt, see rules I & II.GOLDEN RULE IV - ONLY OUTSOURCE THE MANUFACTURING OF YOUR PRODUCT TO SOMEONE WHO COULD BETTER YOUR OWN PRODUCT QUALITY. If in doubt ask IBM about Lenovo.GOLDEN RULE V - THE BENCHMARKING INDUSTRY STANDARD FOR THIS PRODUCT LINE IS THE HP12C. Just in case, if HP does not know or is not listening to its customers.GOLDEN RULE VI - DO NOT DISCONTINUE THE ICONIC HP12C GOLD. HP needs no reminder that the customer is always right. Please let your customer, the ultimate market force decide if the HP12C should ever be retired.As an ardent fan of HP12C and line of financial business & scientific calculators, I am of the view that the day when HP discontinue the HP12C would be the day it exit this business segment. I speculate this would happen when the HP brandname disappears from the 12C just like after IBM name had disappeared from ThinkPads and ThinkCentres.Since the price of GOLD is on the rise, it is indeed puzzling to fans of the HP12C, why HP did not release a genuine HP12C gold 25th anniversary model for the fans to mark the occasion, if replacing the discontinuing the HP12C GOLD is the intention READ ALL GOLDEN RULES above.To be fair, the silver HP12c Platinum Anniversary is very nice and has spotted the \"retro\" silver look of the HP 11C, however, it is still not the GOLD standard. With HP missing this golden opportunity to mark the occasion, I would love to see and own a HP 12C engraved with 50th Anniversary logo, reckon that this would be the ultimate testimony for the HP12C and a milestone for its fans.Looking forward, a GOLD 50th anniversary HP12C Anniversary model would be very nice for the fans.For HP, this is a lucrative business proposition. By now, they would have realized that if they have any of its products which could hit a 50th year home run  in 2031, it would not be from its other product line-it would be this original HP12C GOLD standard bearer. So please treat the old workhorse with the upmost respect!'"
            ]
          },
          "metadata": {
            "tags": []
          },
          "execution_count": 13
        }
      ]
    },
    {
      "cell_type": "code",
      "metadata": {
        "id": "B9RR9n69A40X",
        "colab_type": "code",
        "colab": {
          "base_uri": "https://localhost:8080/",
          "height": 54
        },
        "outputId": "47e77a4f-75da-43de-8413-47353faf8ef0"
      },
      "source": [
        "y = re.findall(r\"\\b\\W\\^bB\\w+\\b | \\b\\w+[^gG]\\W\\b\",text)\n",
        "print(y)"
      ],
      "execution_count": 14,
      "outputs": [
        {
          "output_type": "stream",
          "text": [
            "[' THIS ', ' REVIEW? ', ' feel ', ' obliged ', ' share ', ' views ', ' this ', ' workhorse, ', ' HP12C ', ' at ', ' 25th ', ' and ', ' 1Oth ', ' as ', ' satisfied ', ' user ', ' fan. ', ' after ', ' my ', ' views ', ' Amazon ', ' two ', ' its ', ' successors ', ' Amazon.', ' the ', ' Platinum (', ' 1st ', ' HP12cP) ', ' the ', ' Platiunum ', ' Edition (', ' 3rd ', ' HP12cPAE ', ' HP12cPA).', ' the ', ' of ', ' 12c ', ' owners ', ' fans, ', ' the ', ' nerd ', ' myself, ', ' name ', ' To ', ' majority ', ' HP ', ' calculator ', ' and ', ' The ', ' of ', ' is ', ' with ', ' highest ', ' and ', ' range ', ' in ', ' electronic ', ' financial ', ' before ', ' first ', ' of ', ' computers ', ' the ', ' of ', ' users.', ' date (', ' the ', ' of ', ' standard ', ' none ', ' than ', ' HP12C ', ' boy\" ', ' its ', ' business ', ' HP12C ', ' matured ', ' is ', ' only ', ' HP ', ' calculator ', \" since '\", ' and ', ' the ', ' electronic ', ' ever. ', ' to ', ' almost ', ' million ', ' 12Cs, ', ' was ', ' since ,', ' is ', ' the ', ' HP (', ' RPN) ', ' ever.', ' proven ', ' the ', ' works ', ' day ', ' with ', ' form ', ' and ', ' unchanged ', ' has ', ' been ', ' by ', ' and ', ' its ', ' successors ', ' had ', ' and ', ' with ', ' software ', ' sold, ', ' 12C ', ' the ', ' indispensable \"', ' finance-', ' heldheld ', ' for ', ' owners, ', ' and ', ' alike. ', ' handy ', ' powers ', ' immediately ', ' is ', ' than ', ' portable ', ' computers ', ' jump ', ' into ', ' action.', ' HP12C ', ' serious ', ' and ', ' ultimate ', ' tested ', ' field ', ' proven ', ' its ', ' and ', ' all ', ' rival ', ' the ', ' moves ', ' in ', ' of ', ' HP ', ' should ', ' bear ', ' mind ', ' the ', ' production ', ' of ', ' HP ', ' is ', ' testimony ', \" HP'\", ' quality ', ' standard ', ' by ', ' customers.', ' just ', ' to ', ' HP12C ', ' here, ', ' own ', ' am ', ' three ', ' of ', ' models ', ' the ', ' 12C ', ' and ', ' is ', ' and ', ' to ', ' that ', ' had ', ' HP ', ' least ', ' years ', ' two ', ' upgrades ', ' the ', ' 12c ', ' in ', ' futile ', ' to \"', ' retire\" ', ' HP12C ', ' three ', ' in ', ' form ', ' HP12cPlatinum ', ' 2004.', ' would ', ' especially ', ' on ', ' part ', ' HP, ', ' realize ', ' all ', ' effort ', ' on ', ' the ', ' models ', ' it ', ' not ', ' its ', ' the ', ' and ', ' series ', ' seriously ', ' the ', ' However, ', ' their ', ' rights ', ' HP10Bs ', ' HP17Bs, ', ' the ', ' may ', ' their ', ' place ', ' the ', ' financial ', ' line, ', ' the ', ' GOLD ', ' terms ', ' price ', ' functions.', ' this ', ' happened ', ' the ', ' golden ', ' were ', ' by ', ' RULE ', ' PRODUCT ', ' STILL ', ' ITSELF ', ' NEVER ', ' RULE ', ' IF ', \" AREN'\", ' BROKEN, ', ' FIX ', ' gold ', ' of ', ' should ', ' be ', ' as ', ' by ', ' HP ', ' calculator ', ' team. ', ' on ', ' same ', ' the ', ' built ', ' and ', ' standard ', ' paramount ', ' its ', ' RULE ', ' ALWAYS ', ' TO ', ' CUSTOMERS! ', ' in ', ' see ', ' II.', ' RULE ', ' ONLY ', ' THE ', ' OF ', ' PRODUCT ', ' SOMEONE ', ' COULD ', ' YOUR ', ' PRODUCT ', ' If ', ' doubt ', ' IBM ', ' Lenovo.', ' RULE ', ' THE ', ' INDUSTRY ', ' FOR ', ' PRODUCT ', ' IS ', ' HP12C. ', ' in ', ' if ', ' does ', ' know ', ' is ', ' to ', ' customers.', ' RULE ', ' DO ', ' DISCONTINUE ', ' ICONIC ', ' GOLD. ', ' needs ', ' reminder ', ' the ', ' is ', ' right. ', ' let ', ' customer, ', ' ultimate ', ' force ', ' if ', ' HP12C ', ' ever ', ' retired.', ' an ', ' fan ', ' HP12C ', ' line ', ' financial ', ' scientific ', ' am ', ' the ', ' that ', ' day ', ' HP ', ' the ', ' would ', ' the ', ' it ', ' this ', ' segment. ', ' speculate ', ' would ', ' when ', ' HP ', ' disappears ', ' the ', ' just ', ' after ', ' name ', ' disappeared ', ' ThinkPads ', ' ThinkCentres.', ' the ', ' of ', ' is ', ' the ', ' it ', ' indeed ', ' to ', ' of ', ' HP12C, ', ' HP ', ' not ', ' genuine ', ' gold ', ' anniversary ', ' for ', ' fans ', ' mark ', ' occasion, ', ' the ', ' the ', ' GOLD ', ' the ', ' READ ', ' GOLDEN ', ' above.', ' be ', ' the ', ' HP12c ', ' Anniversary ', ' very ', ' and ', ' spotted ', ' silver ', ' of ', ' HP ', ' however, ', ' is ', ' not ', ' GOLD ', ' With ', ' this ', ' opportunity ', ' mark ', ' occasion, ', ' would ', ' to ', ' and ', ' HP ', ' engraved ', ' 50th ', ' logo, ', ' that ', ' would ', ' the ', ' testimony ', ' the ', ' and ', ' milestone ', ' its ', ' forward, ', ' GOLD ', ' anniversary ', ' Anniversary ', ' would ', ' very ', ' for ', ' fans.', ' HP, ', ' is ', ' lucrative ', ' proposition. ', ' now, ', ' would ', ' realized ', ' if ', ' have ', ' of ', ' products ', ' could ', ' 50th ', ' home ', ' in ', ' it ', ' not ', ' from ', ' other ', ' line-', ' would ', ' this ', ' HP12C ', ' standard ', ' So ', ' treat ', ' old ', ' with ', ' upmost ']\n"
          ],
          "name": "stdout"
        }
      ]
    }
  ]
}